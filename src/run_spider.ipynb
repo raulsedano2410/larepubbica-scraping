{
 "cells": [
  {
   "cell_type": "code",
   "execution_count": null,
   "metadata": {},
   "outputs": [],
   "source": [
    "\n",
    "# pylint: disable=all\n",
    "%run step01_URLgenerator.ipynb\n",
    "%run step02_URLprocessor.ipynb\n",
    "%run step03_GETnotice.ipynb\n",
    "%run step04_GETnotice_unmatchedURLs.ipynb\n",
    "# pylint:disable=all\n",
    "def main(keyword, from_date, to_date, modality):\n",
    "    file_process_file = scraper_one(keyword, from_date, to_date, modality)\n",
    "    spider = MySpider(start_urls_csv=file_process_file)\n",
    "    spider.start_requests()\n",
    "    filepath_news_links = spider._build_visited_urls_file(use_output_suffix=True)\n",
    "    exist_unmatchedURLS = scraper(filepath_news_links)\n",
    "    if exist_unmatchedURLS:\n",
    "        main_unmatched_URLs_loop(exist_unmatchedURLS)\n",
    "\n",
    "if __name__ == \"__main__\":\n",
    "    main(\"criminalità organizzata\", '1984-01-01', \"2024-09-10\", \"any\")"
   ]
  },
  {
   "cell_type": "code",
   "execution_count": null,
   "metadata": {},
   "outputs": [],
   "source": []
  }
 ],
 "metadata": {
  "kernelspec": {
   "display_name": "venvlarepublica",
   "language": "python",
   "name": "python3"
  },
  "language_info": {
   "codemirror_mode": {
    "name": "ipython",
    "version": 3
   },
   "file_extension": ".py",
   "mimetype": "text/x-python",
   "name": "python",
   "nbconvert_exporter": "python",
   "pygments_lexer": "ipython3",
   "version": "3.12.3"
  }
 },
 "nbformat": 4,
 "nbformat_minor": 2
}
